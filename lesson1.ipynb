{
  "nbformat": 4,
  "nbformat_minor": 0,
  "metadata": {
    "colab": {
      "provenance": [],
      "authorship_tag": "ABX9TyMwvurRFFkdoq/8xGWzmDqI",
      "include_colab_link": true
    },
    "kernelspec": {
      "name": "python3",
      "display_name": "Python 3"
    },
    "language_info": {
      "name": "python"
    }
  },
  "cells": [
    {
      "cell_type": "markdown",
      "metadata": {
        "id": "view-in-github",
        "colab_type": "text"
      },
      "source": [
        "<a href=\"https://colab.research.google.com/github/rrbka69/-/blob/main/lesson1.ipynb\" target=\"_parent\"><img src=\"https://colab.research.google.com/assets/colab-badge.svg\" alt=\"Open In Colab\"/></a>"
      ]
    },
    {
      "cell_type": "code",
      "execution_count": null,
      "metadata": {
        "id": "WodzSbQkI8R_",
        "colab": {
          "base_uri": "https://localhost:8080/"
        },
        "outputId": "bd1ff999-d52a-4845-fb69-f2eca82531a7"
      },
      "outputs": [
        {
          "output_type": "execute_result",
          "data": {
            "text/plain": [
              "8"
            ]
          },
          "metadata": {},
          "execution_count": 1
        }
      ],
      "source": [
        "# pow(2,3)\n"
      ]
    },
    {
      "cell_type": "markdown",
      "source": [
        "1.1 Соедините два словаря в один"
      ],
      "metadata": {
        "id": "hj2AQ_Cmzh86"
      }
    },
    {
      "cell_type": "code",
      "source": [
        "dict1={'One':1,'Two':2, 'Three':3}\n",
        "dict2={'Four':4,'Five':5, 'Six':6}\n",
        "\n",
        "dict1.update(dict2)\n",
        "dict1"
      ],
      "metadata": {
        "colab": {
          "base_uri": "https://localhost:8080/"
        },
        "id": "hf2sdG8ho_nP",
        "outputId": "b187e322-3382-4c5f-9a81-725ddeafbfa5"
      },
      "execution_count": null,
      "outputs": [
        {
          "output_type": "execute_result",
          "data": {
            "text/plain": [
              "{'One': 1, 'Two': 2, 'Three': 3, 'Four': 4, 'Five': 5, 'Six': 6}"
            ]
          },
          "metadata": {},
          "execution_count": 6
        }
      ]
    },
    {
      "cell_type": "markdown",
      "source": [
        "1.2 Напишите функцию, которая на вход принимает два\n",
        "словаря и возвращает один объединенный словарь\n",
        "Используйте аннотирование типов\n"
      ],
      "metadata": {
        "id": "MXDNZtjszgJW"
      }
    },
    {
      "cell_type": "code",
      "source": [
        "dict1={'One':1,'Two':2, 'Three':3}\n",
        "dict2={'Four':4,'Five':5, 'Six':6}\n",
        "\n",
        "def merge_dict(dict1: dict, dict2: dict)->dict:\n",
        "  dict1.update(dict2)\n",
        "  return dict1\n",
        "\n",
        "merge_dict(dict1,dict2)\n"
      ],
      "metadata": {
        "colab": {
          "base_uri": "https://localhost:8080/"
        },
        "id": "0yUc__PpvLwX",
        "outputId": "d869df97-3f0a-47e0-b746-2ad385e07e38"
      },
      "execution_count": null,
      "outputs": [
        {
          "output_type": "execute_result",
          "data": {
            "text/plain": [
              "{'One': 1, 'Two': 2, 'Three': 3, 'Four': 4, 'Five': 5, 'Six': 6}"
            ]
          },
          "metadata": {},
          "execution_count": 7
        }
      ]
    },
    {
      "cell_type": "markdown",
      "source": [
        "2 Напишите функцию, которая из двух списков, делает один словарь, где\n",
        "элементы из первого списка - ключи, а элементы из второго списка -\n",
        "значения\n",
        "\n",
        "2.1 Используя цикл for\n",
        "\n"
      ],
      "metadata": {
        "id": "4cj1MCahzua-"
      }
    },
    {
      "cell_type": "code",
      "source": [
        "keys = ['One','Two', 'Thruee']\n",
        "values = [1,2,3]\n",
        "def get_dict(keys: list, values: list)->dict:\n",
        "  res_dict = {}\n",
        "  for i in range(len(keys)):\n",
        "    res_dict.update(\n",
        "        {\n",
        "            keys[i]: values[i]\n",
        "        })\n",
        "    return res_dict\n",
        "\n",
        "get_dict(keys, values)"
      ],
      "metadata": {
        "colab": {
          "base_uri": "https://localhost:8080/"
        },
        "id": "iIP0USV309k_",
        "outputId": "ec0f0896-ffa5-40d0-ea44-cabf1b4c8b80"
      },
      "execution_count": null,
      "outputs": [
        {
          "output_type": "execute_result",
          "data": {
            "text/plain": [
              "{'One': 1}"
            ]
          },
          "metadata": {},
          "execution_count": 14
        }
      ]
    },
    {
      "cell_type": "markdown",
      "source": [
        "2.2 Используя dict comprehensions"
      ],
      "metadata": {
        "id": "fgleP2K26cQg"
      }
    },
    {
      "cell_type": "code",
      "source": [
        "keys = ['One','Two', 'Thruee']\n",
        "values = [1,2,3]\n",
        "def get_dict(keys: list, values: list) -> dict:\n",
        "  return{keys[i]: values [i] for i in range(len(keys)) }\n",
        "\n",
        "\n",
        "get_dict(keys, values)"
      ],
      "metadata": {
        "colab": {
          "base_uri": "https://localhost:8080/"
        },
        "id": "kT36o3_B37OW",
        "outputId": "590bacef-bbad-4594-c63c-aa9eeea6ddeb"
      },
      "execution_count": null,
      "outputs": [
        {
          "output_type": "execute_result",
          "data": {
            "text/plain": [
              "{'One': 1, 'Two': 2, 'Thruee': 3}"
            ]
          },
          "metadata": {},
          "execution_count": 13
        }
      ]
    },
    {
      "cell_type": "markdown",
      "source": [
        "3.1 Напишите функцию с циклом for\n",
        "Функция на вход принимает:\n",
        "\n",
        "исходный словарь\n",
        "ключи, которые нужно извлечь (аргумент по умолчанию)\n",
        "На выходе словарь с нужными ключами\n",
        "\n",
        "Используйте аннотирование типов"
      ],
      "metadata": {
        "id": "Fvd1wnge6xTY"
      }
    },
    {
      "cell_type": "code",
      "source": [
        "client_dict = {\n",
        "\"name\": \"John\",\n",
        "\"age\": 25,\n",
        "\"salary\": 5000,\n",
        "\"city\": \"Moscow\"\n",
        "}\n",
        "keys = ['name', 'age']"
      ],
      "metadata": {
        "id": "0kK1eUE27BZ8"
      },
      "execution_count": null,
      "outputs": []
    },
    {
      "cell_type": "code",
      "source": [
        "def get_keys(base_dict: dict, keys: list) -> dict:\n",
        "  res = {}\n",
        "  for k in keys:\n",
        "    res.update({\n",
        "      k: base_dict[k]\n",
        "    })\n",
        "  return res\n",
        "\n",
        "get_keys(client_dict, keys)"
      ],
      "metadata": {
        "colab": {
          "base_uri": "https://localhost:8080/"
        },
        "id": "ZC9S0nFe70al",
        "outputId": "f312e9c8-f103-44b0-a002-b68c13611355"
      },
      "execution_count": null,
      "outputs": [
        {
          "output_type": "execute_result",
          "data": {
            "text/plain": [
              "{'name': 'John', 'age': 25}"
            ]
          },
          "metadata": {},
          "execution_count": 16
        }
      ]
    },
    {
      "cell_type": "markdown",
      "source": [
        "3.2 Используя dict comprehensions"
      ],
      "metadata": {
        "id": "GbFeHiIu8Pyy"
      }
    },
    {
      "cell_type": "code",
      "source": [
        "new_dict = {i: client_dict[i] for i in keys}\n",
        "new_dict"
      ],
      "metadata": {
        "colab": {
          "base_uri": "https://localhost:8080/"
        },
        "id": "mtRedXg_8S1H",
        "outputId": "a9d87bab-8846-44c5-dc9a-2f422f43ffa1"
      },
      "execution_count": null,
      "outputs": [
        {
          "output_type": "execute_result",
          "data": {
            "text/plain": [
              "{'name': 'John', 'age': 25}"
            ]
          },
          "metadata": {},
          "execution_count": 17
        }
      ]
    },
    {
      "cell_type": "markdown",
      "source": [
        "5.1 Найдите картинку в интернете и прикрепите её\n",
        "в ячейку с текстом"
      ],
      "metadata": {
        "id": "L1Cus-Ye83Tb"
      }
    },
    {
      "cell_type": "markdown",
      "source": [
        "<img src=https://img.freepik.com/free-photo/a-cupcake-with-a-strawberry-on-top-and-a-strawberry-on-the-top_1340-35087.jpg width=300>"
      ],
      "metadata": {
        "id": "sYogvm1vE0eY"
      }
    },
    {
      "cell_type": "markdown",
      "source": [
        "5.2 Создайте следующую таблицу в ячейке с\n",
        "текстом"
      ],
      "metadata": {
        "id": "vOORrYOlDQ2u"
      }
    },
    {
      "cell_type": "markdown",
      "source": [
        "<table>\n",
        "    <tr>\n",
        "        <td> </td>\n",
        "        <td>До события</td>\n",
        "        <td>Во время события</td>\n",
        "    </tr>\n",
        "    <tr>\n",
        "        <td>1 контрольная точка</td>\n",
        "        <td>250</td>\n",
        "        <td>500</td>\n",
        "    </tr>\n",
        "    <tr>\n",
        "        <td>2 контрольная точка</td>\n",
        "        <td>350</td>\n",
        "        <td>700</td>\n",
        "    </tr>\n",
        "    <tr>\n",
        "        <td>3 контрольная точка</td>\n",
        "        <td>400</td>\n",
        "        <td>800</td>\n",
        "        </tr>\n",
        "    <tr>\n",
        "        <td>итог за победу</td>\n",
        "        <td>1000</td>\n",
        "        <td>2000</td>\n",
        "    </tr>\n",
        "</table>"
      ],
      "metadata": {
        "id": "RNfgW-FEY29q"
      }
    },
    {
      "cell_type": "markdown",
      "source": [
        "6 Напишите функцию, которая может принимать любое\n",
        "количество трат пользователя и считать сумму и среднее.\n",
        "На вход поступают целочисленные значения в любом\n",
        "количестве\n",
        "На выходе словарь с ключами суммы трат и средней\n",
        "траты"
      ],
      "metadata": {
        "id": "nUXGwRuVbTdz"
      }
    },
    {
      "cell_type": "code",
      "source": [
        "def calc(*args):\n",
        "  sum_purch = sum(args)\n",
        "  n_purch = len(args)\n",
        "  return {\n",
        "    'sum': sum_purch,\n",
        "    'avg': sum_purch / n_purch\n",
        "  }\n",
        "\n",
        "calc(1, 2, 3, 4, 5)"
      ],
      "metadata": {
        "colab": {
          "base_uri": "https://localhost:8080/"
        },
        "id": "6w9mlyn1bWy9",
        "outputId": "5d6629bb-5f5a-4b99-c354-0354b73bf43f"
      },
      "execution_count": 41,
      "outputs": [
        {
          "output_type": "execute_result",
          "data": {
            "text/plain": [
              "{'sum': 15, 'avg': 3.0}"
            ]
          },
          "metadata": {},
          "execution_count": 41
        }
      ]
    },
    {
      "cell_type": "markdown",
      "source": [
        "4.1 Сгенерируйте случайные целые числа от 0 до\n",
        "100 в количестве 5 штук с помощью модуля\n",
        "random\n",
        "\n",
        "● Зафиксируйте псевдогенерацию, чтобы\n",
        "сгенерированные значения всегда были одинаковые\n",
        "\n",
        "● Используйте list comprehensions\n"
      ],
      "metadata": {
        "id": "yV2HWh_fceUt"
      }
    },
    {
      "cell_type": "code",
      "source": [
        "import random\n",
        "# random.seed(213)\n",
        "\n",
        "num = [random.randint(0, 100) for i in range(5)]\n",
        "num"
      ],
      "metadata": {
        "colab": {
          "base_uri": "https://localhost:8080/"
        },
        "id": "NLJ2nA1tcgKG",
        "outputId": "dce7ad50-532c-474b-9841-a00795686ac2"
      },
      "execution_count": 50,
      "outputs": [
        {
          "output_type": "execute_result",
          "data": {
            "text/plain": [
              "[91, 25, 73, 87, 75]"
            ]
          },
          "metadata": {},
          "execution_count": 50
        }
      ]
    },
    {
      "cell_type": "markdown",
      "source": [
        "4.2 Напишите генератор\n",
        "Генератор на вход принимает список с данными о клиенте (данные\n",
        "из пункта 4.1)\n",
        "Внутри генератора реализуйте обход по списку с данными\n",
        "На каждой итерации генератор будет возвращать кортеж из двух\n",
        "элементов:\n",
        "\n",
        "1. данные по клиенту (в зависимости от итерации, на 0 итерации\n",
        "вернется 0 элемент, на 1 итерации вернется 1 элемент и тд)\n",
        "\n",
        "2. целочисленное значение, которое показывает, сколько секунд\n",
        "прошло с предыдущей итерации\n",
        "\n",
        "Примечание: секунды, которые возвращаются должны показывать время не\n",
        "с начала запуска генератора, а именно то время, которое прошло с\n",
        "предыдущей итерации. А значит время на первой итерации должно\n",
        "равняться 0.\n",
        "Используйте функцию time из модуля time для подсчета времени.\n",
        "Чтобы проверить работу таймера, запустите проход по\n",
        "генератору в цикле с time.sleep(2)"
      ],
      "metadata": {
        "id": "z3Ob8CVUd6nv"
      }
    },
    {
      "cell_type": "code",
      "source": [
        "import time\n",
        "\n",
        "def generator(data: list):\n",
        "  last_time = None\n",
        "  for i in data:\n",
        "    curr_time = time.time()\n",
        "\n",
        "  if last_time:\n",
        "    delta = curr_time - last_time\n",
        "  else:\n",
        "    delta = curr_time - curr_time\n",
        "\n",
        "  last_time = time.time()\n",
        "  yield (int(delta), i)"
      ],
      "metadata": {
        "id": "T8f27JzReBGW"
      },
      "execution_count": 51,
      "outputs": []
    },
    {
      "cell_type": "code",
      "source": [
        "for i in generator(num):\n",
        "  print(i)\n",
        "time.sleep(2)"
      ],
      "metadata": {
        "colab": {
          "base_uri": "https://localhost:8080/"
        },
        "id": "qUAN8lLgghRz",
        "outputId": "5e48b22a-9115-42df-edf3-f7883277d283"
      },
      "execution_count": 52,
      "outputs": [
        {
          "output_type": "stream",
          "name": "stdout",
          "text": [
            "(0, 75)\n"
          ]
        }
      ]
    }
  ]
}