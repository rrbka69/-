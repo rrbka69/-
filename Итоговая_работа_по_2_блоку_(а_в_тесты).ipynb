{
  "cells": [
    {
      "cell_type": "markdown",
      "metadata": {
        "id": "view-in-github",
        "colab_type": "text"
      },
      "source": [
        "<a href=\"https://colab.research.google.com/github/rrbka69/-/blob/main/%D0%98%D1%82%D0%BE%D0%B3%D0%BE%D0%B2%D0%B0%D1%8F_%D1%80%D0%B0%D0%B1%D0%BE%D1%82%D0%B0_%D0%BF%D0%BE_2_%D0%B1%D0%BB%D0%BE%D0%BA%D1%83_(%D0%B0_%D0%B2_%D1%82%D0%B5%D1%81%D1%82%D1%8B).ipynb\" target=\"_parent\"><img src=\"https://colab.research.google.com/assets/colab-badge.svg\" alt=\"Open In Colab\"/></a>"
      ]
    },
    {
      "cell_type": "markdown",
      "metadata": {
        "id": "CouuDLrw5z6s"
      },
      "source": [
        "**1) Подведите результаты эксперимента в экселе по следующим данным: ab_stats.csv - Google Диск:\n",
        "Стат значимо ли отличается ARPPU в двух группах ? Какие рекомендации дадите\n",
        "менеджеру?**"
      ]
    },
    {
      "cell_type": "markdown",
      "metadata": {
        "id": "GRW975g158XK"
      },
      "source": [
        "Используем Python для решения:"
      ]
    },
    {
      "cell_type": "code",
      "execution_count": 39,
      "metadata": {
        "id": "oRl1MJPOHItY"
      },
      "outputs": [],
      "source": [
        "from scipy.stats import ttest_1samp\n",
        "import numpy as np\n",
        "import pandas as pd\n",
        "from scipy.stats import norm, t, kstest, shapiro, stats\n",
        "import statsmodels.api as sm\n",
        "from matplotlib import pyplot as plt\n",
        "import warnings\n",
        "warnings.filterwarnings('ignore')\n",
        "warnings.warn('DelftStack')\n",
        "warnings.warn('Do not show this message')"
      ]
    },
    {
      "cell_type": "markdown",
      "metadata": {
        "id": "rkVZKOUbHkXC"
      },
      "source": [
        "Импортируем данные из файла:"
      ]
    },
    {
      "cell_type": "code",
      "execution_count": 2,
      "metadata": {
        "colab": {
          "base_uri": "https://localhost:8080/",
          "height": 520
        },
        "id": "RxK-JXVNHTfO",
        "outputId": "8072e8f0-5345-474a-bfba-2e637845bbda"
      },
      "outputs": [
        {
          "output_type": "execute_result",
          "data": {
            "text/plain": [
              "    revenue  num_purchases  purchase ab_group  av_site visit\n",
              "0       0.0              0         0        A       9.040174\n",
              "1       0.0              0         0        A       4.811628\n",
              "2       0.0              0         0        A       7.342623\n",
              "3       0.0              0         0        A       7.744581\n",
              "4       0.0              0         0        A      10.511814\n",
              "5       0.0              0         0        A       9.578727\n",
              "6       0.0              0         0        A       6.162601\n",
              "7       0.0              0         0        A      11.909452\n",
              "8       0.0              0         0        A       6.540910\n",
              "9       0.0              0         0        A       7.990794\n",
              "10      0.0              0         0        A       8.247499\n",
              "11      0.0              0         0        A       3.019651\n",
              "12      0.0              0         0        A       4.996551\n",
              "13      0.0              0         0        A       6.696749\n",
              "14      0.0              0         0        A      10.112636"
            ],
            "text/html": [
              "\n",
              "  <div id=\"df-aac03e84-0a96-434b-a4fd-66cb8797b80a\" class=\"colab-df-container\">\n",
              "    <div>\n",
              "<style scoped>\n",
              "    .dataframe tbody tr th:only-of-type {\n",
              "        vertical-align: middle;\n",
              "    }\n",
              "\n",
              "    .dataframe tbody tr th {\n",
              "        vertical-align: top;\n",
              "    }\n",
              "\n",
              "    .dataframe thead th {\n",
              "        text-align: right;\n",
              "    }\n",
              "</style>\n",
              "<table border=\"1\" class=\"dataframe\">\n",
              "  <thead>\n",
              "    <tr style=\"text-align: right;\">\n",
              "      <th></th>\n",
              "      <th>revenue</th>\n",
              "      <th>num_purchases</th>\n",
              "      <th>purchase</th>\n",
              "      <th>ab_group</th>\n",
              "      <th>av_site visit</th>\n",
              "    </tr>\n",
              "  </thead>\n",
              "  <tbody>\n",
              "    <tr>\n",
              "      <th>0</th>\n",
              "      <td>0.0</td>\n",
              "      <td>0</td>\n",
              "      <td>0</td>\n",
              "      <td>A</td>\n",
              "      <td>9.040174</td>\n",
              "    </tr>\n",
              "    <tr>\n",
              "      <th>1</th>\n",
              "      <td>0.0</td>\n",
              "      <td>0</td>\n",
              "      <td>0</td>\n",
              "      <td>A</td>\n",
              "      <td>4.811628</td>\n",
              "    </tr>\n",
              "    <tr>\n",
              "      <th>2</th>\n",
              "      <td>0.0</td>\n",
              "      <td>0</td>\n",
              "      <td>0</td>\n",
              "      <td>A</td>\n",
              "      <td>7.342623</td>\n",
              "    </tr>\n",
              "    <tr>\n",
              "      <th>3</th>\n",
              "      <td>0.0</td>\n",
              "      <td>0</td>\n",
              "      <td>0</td>\n",
              "      <td>A</td>\n",
              "      <td>7.744581</td>\n",
              "    </tr>\n",
              "    <tr>\n",
              "      <th>4</th>\n",
              "      <td>0.0</td>\n",
              "      <td>0</td>\n",
              "      <td>0</td>\n",
              "      <td>A</td>\n",
              "      <td>10.511814</td>\n",
              "    </tr>\n",
              "    <tr>\n",
              "      <th>5</th>\n",
              "      <td>0.0</td>\n",
              "      <td>0</td>\n",
              "      <td>0</td>\n",
              "      <td>A</td>\n",
              "      <td>9.578727</td>\n",
              "    </tr>\n",
              "    <tr>\n",
              "      <th>6</th>\n",
              "      <td>0.0</td>\n",
              "      <td>0</td>\n",
              "      <td>0</td>\n",
              "      <td>A</td>\n",
              "      <td>6.162601</td>\n",
              "    </tr>\n",
              "    <tr>\n",
              "      <th>7</th>\n",
              "      <td>0.0</td>\n",
              "      <td>0</td>\n",
              "      <td>0</td>\n",
              "      <td>A</td>\n",
              "      <td>11.909452</td>\n",
              "    </tr>\n",
              "    <tr>\n",
              "      <th>8</th>\n",
              "      <td>0.0</td>\n",
              "      <td>0</td>\n",
              "      <td>0</td>\n",
              "      <td>A</td>\n",
              "      <td>6.540910</td>\n",
              "    </tr>\n",
              "    <tr>\n",
              "      <th>9</th>\n",
              "      <td>0.0</td>\n",
              "      <td>0</td>\n",
              "      <td>0</td>\n",
              "      <td>A</td>\n",
              "      <td>7.990794</td>\n",
              "    </tr>\n",
              "    <tr>\n",
              "      <th>10</th>\n",
              "      <td>0.0</td>\n",
              "      <td>0</td>\n",
              "      <td>0</td>\n",
              "      <td>A</td>\n",
              "      <td>8.247499</td>\n",
              "    </tr>\n",
              "    <tr>\n",
              "      <th>11</th>\n",
              "      <td>0.0</td>\n",
              "      <td>0</td>\n",
              "      <td>0</td>\n",
              "      <td>A</td>\n",
              "      <td>3.019651</td>\n",
              "    </tr>\n",
              "    <tr>\n",
              "      <th>12</th>\n",
              "      <td>0.0</td>\n",
              "      <td>0</td>\n",
              "      <td>0</td>\n",
              "      <td>A</td>\n",
              "      <td>4.996551</td>\n",
              "    </tr>\n",
              "    <tr>\n",
              "      <th>13</th>\n",
              "      <td>0.0</td>\n",
              "      <td>0</td>\n",
              "      <td>0</td>\n",
              "      <td>A</td>\n",
              "      <td>6.696749</td>\n",
              "    </tr>\n",
              "    <tr>\n",
              "      <th>14</th>\n",
              "      <td>0.0</td>\n",
              "      <td>0</td>\n",
              "      <td>0</td>\n",
              "      <td>A</td>\n",
              "      <td>10.112636</td>\n",
              "    </tr>\n",
              "  </tbody>\n",
              "</table>\n",
              "</div>\n",
              "    <div class=\"colab-df-buttons\">\n",
              "\n",
              "  <div class=\"colab-df-container\">\n",
              "    <button class=\"colab-df-convert\" onclick=\"convertToInteractive('df-aac03e84-0a96-434b-a4fd-66cb8797b80a')\"\n",
              "            title=\"Convert this dataframe to an interactive table.\"\n",
              "            style=\"display:none;\">\n",
              "\n",
              "  <svg xmlns=\"http://www.w3.org/2000/svg\" height=\"24px\" viewBox=\"0 -960 960 960\">\n",
              "    <path d=\"M120-120v-720h720v720H120Zm60-500h600v-160H180v160Zm220 220h160v-160H400v160Zm0 220h160v-160H400v160ZM180-400h160v-160H180v160Zm440 0h160v-160H620v160ZM180-180h160v-160H180v160Zm440 0h160v-160H620v160Z\"/>\n",
              "  </svg>\n",
              "    </button>\n",
              "\n",
              "  <style>\n",
              "    .colab-df-container {\n",
              "      display:flex;\n",
              "      gap: 12px;\n",
              "    }\n",
              "\n",
              "    .colab-df-convert {\n",
              "      background-color: #E8F0FE;\n",
              "      border: none;\n",
              "      border-radius: 50%;\n",
              "      cursor: pointer;\n",
              "      display: none;\n",
              "      fill: #1967D2;\n",
              "      height: 32px;\n",
              "      padding: 0 0 0 0;\n",
              "      width: 32px;\n",
              "    }\n",
              "\n",
              "    .colab-df-convert:hover {\n",
              "      background-color: #E2EBFA;\n",
              "      box-shadow: 0px 1px 2px rgba(60, 64, 67, 0.3), 0px 1px 3px 1px rgba(60, 64, 67, 0.15);\n",
              "      fill: #174EA6;\n",
              "    }\n",
              "\n",
              "    .colab-df-buttons div {\n",
              "      margin-bottom: 4px;\n",
              "    }\n",
              "\n",
              "    [theme=dark] .colab-df-convert {\n",
              "      background-color: #3B4455;\n",
              "      fill: #D2E3FC;\n",
              "    }\n",
              "\n",
              "    [theme=dark] .colab-df-convert:hover {\n",
              "      background-color: #434B5C;\n",
              "      box-shadow: 0px 1px 3px 1px rgba(0, 0, 0, 0.15);\n",
              "      filter: drop-shadow(0px 1px 2px rgba(0, 0, 0, 0.3));\n",
              "      fill: #FFFFFF;\n",
              "    }\n",
              "  </style>\n",
              "\n",
              "    <script>\n",
              "      const buttonEl =\n",
              "        document.querySelector('#df-aac03e84-0a96-434b-a4fd-66cb8797b80a button.colab-df-convert');\n",
              "      buttonEl.style.display =\n",
              "        google.colab.kernel.accessAllowed ? 'block' : 'none';\n",
              "\n",
              "      async function convertToInteractive(key) {\n",
              "        const element = document.querySelector('#df-aac03e84-0a96-434b-a4fd-66cb8797b80a');\n",
              "        const dataTable =\n",
              "          await google.colab.kernel.invokeFunction('convertToInteractive',\n",
              "                                                    [key], {});\n",
              "        if (!dataTable) return;\n",
              "\n",
              "        const docLinkHtml = 'Like what you see? Visit the ' +\n",
              "          '<a target=\"_blank\" href=https://colab.research.google.com/notebooks/data_table.ipynb>data table notebook</a>'\n",
              "          + ' to learn more about interactive tables.';\n",
              "        element.innerHTML = '';\n",
              "        dataTable['output_type'] = 'display_data';\n",
              "        await google.colab.output.renderOutput(dataTable, element);\n",
              "        const docLink = document.createElement('div');\n",
              "        docLink.innerHTML = docLinkHtml;\n",
              "        element.appendChild(docLink);\n",
              "      }\n",
              "    </script>\n",
              "  </div>\n",
              "\n",
              "\n",
              "<div id=\"df-ac186899-3221-4205-8398-4dd95928b1a9\">\n",
              "  <button class=\"colab-df-quickchart\" onclick=\"quickchart('df-ac186899-3221-4205-8398-4dd95928b1a9')\"\n",
              "            title=\"Suggest charts\"\n",
              "            style=\"display:none;\">\n",
              "\n",
              "<svg xmlns=\"http://www.w3.org/2000/svg\" height=\"24px\"viewBox=\"0 0 24 24\"\n",
              "     width=\"24px\">\n",
              "    <g>\n",
              "        <path d=\"M19 3H5c-1.1 0-2 .9-2 2v14c0 1.1.9 2 2 2h14c1.1 0 2-.9 2-2V5c0-1.1-.9-2-2-2zM9 17H7v-7h2v7zm4 0h-2V7h2v10zm4 0h-2v-4h2v4z\"/>\n",
              "    </g>\n",
              "</svg>\n",
              "  </button>\n",
              "\n",
              "<style>\n",
              "  .colab-df-quickchart {\n",
              "      --bg-color: #E8F0FE;\n",
              "      --fill-color: #1967D2;\n",
              "      --hover-bg-color: #E2EBFA;\n",
              "      --hover-fill-color: #174EA6;\n",
              "      --disabled-fill-color: #AAA;\n",
              "      --disabled-bg-color: #DDD;\n",
              "  }\n",
              "\n",
              "  [theme=dark] .colab-df-quickchart {\n",
              "      --bg-color: #3B4455;\n",
              "      --fill-color: #D2E3FC;\n",
              "      --hover-bg-color: #434B5C;\n",
              "      --hover-fill-color: #FFFFFF;\n",
              "      --disabled-bg-color: #3B4455;\n",
              "      --disabled-fill-color: #666;\n",
              "  }\n",
              "\n",
              "  .colab-df-quickchart {\n",
              "    background-color: var(--bg-color);\n",
              "    border: none;\n",
              "    border-radius: 50%;\n",
              "    cursor: pointer;\n",
              "    display: none;\n",
              "    fill: var(--fill-color);\n",
              "    height: 32px;\n",
              "    padding: 0;\n",
              "    width: 32px;\n",
              "  }\n",
              "\n",
              "  .colab-df-quickchart:hover {\n",
              "    background-color: var(--hover-bg-color);\n",
              "    box-shadow: 0 1px 2px rgba(60, 64, 67, 0.3), 0 1px 3px 1px rgba(60, 64, 67, 0.15);\n",
              "    fill: var(--button-hover-fill-color);\n",
              "  }\n",
              "\n",
              "  .colab-df-quickchart-complete:disabled,\n",
              "  .colab-df-quickchart-complete:disabled:hover {\n",
              "    background-color: var(--disabled-bg-color);\n",
              "    fill: var(--disabled-fill-color);\n",
              "    box-shadow: none;\n",
              "  }\n",
              "\n",
              "  .colab-df-spinner {\n",
              "    border: 2px solid var(--fill-color);\n",
              "    border-color: transparent;\n",
              "    border-bottom-color: var(--fill-color);\n",
              "    animation:\n",
              "      spin 1s steps(1) infinite;\n",
              "  }\n",
              "\n",
              "  @keyframes spin {\n",
              "    0% {\n",
              "      border-color: transparent;\n",
              "      border-bottom-color: var(--fill-color);\n",
              "      border-left-color: var(--fill-color);\n",
              "    }\n",
              "    20% {\n",
              "      border-color: transparent;\n",
              "      border-left-color: var(--fill-color);\n",
              "      border-top-color: var(--fill-color);\n",
              "    }\n",
              "    30% {\n",
              "      border-color: transparent;\n",
              "      border-left-color: var(--fill-color);\n",
              "      border-top-color: var(--fill-color);\n",
              "      border-right-color: var(--fill-color);\n",
              "    }\n",
              "    40% {\n",
              "      border-color: transparent;\n",
              "      border-right-color: var(--fill-color);\n",
              "      border-top-color: var(--fill-color);\n",
              "    }\n",
              "    60% {\n",
              "      border-color: transparent;\n",
              "      border-right-color: var(--fill-color);\n",
              "    }\n",
              "    80% {\n",
              "      border-color: transparent;\n",
              "      border-right-color: var(--fill-color);\n",
              "      border-bottom-color: var(--fill-color);\n",
              "    }\n",
              "    90% {\n",
              "      border-color: transparent;\n",
              "      border-bottom-color: var(--fill-color);\n",
              "    }\n",
              "  }\n",
              "</style>\n",
              "\n",
              "  <script>\n",
              "    async function quickchart(key) {\n",
              "      const quickchartButtonEl =\n",
              "        document.querySelector('#' + key + ' button');\n",
              "      quickchartButtonEl.disabled = true;  // To prevent multiple clicks.\n",
              "      quickchartButtonEl.classList.add('colab-df-spinner');\n",
              "      try {\n",
              "        const charts = await google.colab.kernel.invokeFunction(\n",
              "            'suggestCharts', [key], {});\n",
              "      } catch (error) {\n",
              "        console.error('Error during call to suggestCharts:', error);\n",
              "      }\n",
              "      quickchartButtonEl.classList.remove('colab-df-spinner');\n",
              "      quickchartButtonEl.classList.add('colab-df-quickchart-complete');\n",
              "    }\n",
              "    (() => {\n",
              "      let quickchartButtonEl =\n",
              "        document.querySelector('#df-ac186899-3221-4205-8398-4dd95928b1a9 button');\n",
              "      quickchartButtonEl.style.display =\n",
              "        google.colab.kernel.accessAllowed ? 'block' : 'none';\n",
              "    })();\n",
              "  </script>\n",
              "</div>\n",
              "    </div>\n",
              "  </div>\n"
            ],
            "application/vnd.google.colaboratory.intrinsic+json": {
              "type": "dataframe",
              "variable_name": "df",
              "summary": "{\n  \"name\": \"df\",\n  \"rows\": 23652,\n  \"fields\": [\n    {\n      \"column\": \"revenue\",\n      \"properties\": {\n        \"dtype\": \"number\",\n        \"std\": 9.557729777665166,\n        \"min\": 0.0,\n        \"max\": 1303.609284,\n        \"num_unique_values\": 375,\n        \"samples\": [\n          1.457669,\n          3.914447,\n          60.249775\n        ],\n        \"semantic_type\": \"\",\n        \"description\": \"\"\n      }\n    },\n    {\n      \"column\": \"num_purchases\",\n      \"properties\": {\n        \"dtype\": \"number\",\n        \"std\": 1,\n        \"min\": 0,\n        \"max\": 152,\n        \"num_unique_values\": 15,\n        \"samples\": [\n          36,\n          152,\n          0\n        ],\n        \"semantic_type\": \"\",\n        \"description\": \"\"\n      }\n    },\n    {\n      \"column\": \"purchase\",\n      \"properties\": {\n        \"dtype\": \"number\",\n        \"std\": 0,\n        \"min\": 0,\n        \"max\": 1,\n        \"num_unique_values\": 2,\n        \"samples\": [\n          1,\n          0\n        ],\n        \"semantic_type\": \"\",\n        \"description\": \"\"\n      }\n    },\n    {\n      \"column\": \"ab_group\",\n      \"properties\": {\n        \"dtype\": \"category\",\n        \"num_unique_values\": 2,\n        \"samples\": [\n          \"B\",\n          \"A\"\n        ],\n        \"semantic_type\": \"\",\n        \"description\": \"\"\n      }\n    },\n    {\n      \"column\": \"av_site visit\",\n      \"properties\": {\n        \"dtype\": \"number\",\n        \"std\": 3.1545842226040555,\n        \"min\": -12.073486328125,\n        \"max\": 22.4468224811554,\n        \"num_unique_values\": 19777,\n        \"samples\": [\n          11.1056418287754,\n          8.07188498077448\n        ],\n        \"semantic_type\": \"\",\n        \"description\": \"\"\n      }\n    }\n  ]\n}"
            }
          },
          "metadata": {},
          "execution_count": 2
        }
      ],
      "source": [
        "df = pd.read_csv('ab_stats.csv')\n",
        "df.head(15)"
      ]
    },
    {
      "cell_type": "code",
      "execution_count": 3,
      "metadata": {
        "colab": {
          "base_uri": "https://localhost:8080/",
          "height": 300
        },
        "id": "O-zNXNopHp7P",
        "outputId": "ae07eae4-4b1e-4ba5-ac03-8ad5d652e4cd"
      },
      "outputs": [
        {
          "output_type": "execute_result",
          "data": {
            "text/plain": [
              "            revenue  num_purchases      purchase  av_site visit\n",
              "count  23652.000000   23652.000000  23652.000000   23652.000000\n",
              "mean       0.324689       0.043590      0.020717       7.013112\n",
              "std        9.557730       1.079403      0.142438       3.154584\n",
              "min        0.000000       0.000000      0.000000     -12.073486\n",
              "25%        0.000000       0.000000      0.000000       5.173787\n",
              "50%        0.000000       0.000000      0.000000       7.007936\n",
              "75%        0.000000       0.000000      0.000000       8.864119\n",
              "max     1303.609284     152.000000      1.000000      22.446822"
            ],
            "text/html": [
              "\n",
              "  <div id=\"df-4fbda32f-21c4-41bc-b115-f54c34dbf2e4\" class=\"colab-df-container\">\n",
              "    <div>\n",
              "<style scoped>\n",
              "    .dataframe tbody tr th:only-of-type {\n",
              "        vertical-align: middle;\n",
              "    }\n",
              "\n",
              "    .dataframe tbody tr th {\n",
              "        vertical-align: top;\n",
              "    }\n",
              "\n",
              "    .dataframe thead th {\n",
              "        text-align: right;\n",
              "    }\n",
              "</style>\n",
              "<table border=\"1\" class=\"dataframe\">\n",
              "  <thead>\n",
              "    <tr style=\"text-align: right;\">\n",
              "      <th></th>\n",
              "      <th>revenue</th>\n",
              "      <th>num_purchases</th>\n",
              "      <th>purchase</th>\n",
              "      <th>av_site visit</th>\n",
              "    </tr>\n",
              "  </thead>\n",
              "  <tbody>\n",
              "    <tr>\n",
              "      <th>count</th>\n",
              "      <td>23652.000000</td>\n",
              "      <td>23652.000000</td>\n",
              "      <td>23652.000000</td>\n",
              "      <td>23652.000000</td>\n",
              "    </tr>\n",
              "    <tr>\n",
              "      <th>mean</th>\n",
              "      <td>0.324689</td>\n",
              "      <td>0.043590</td>\n",
              "      <td>0.020717</td>\n",
              "      <td>7.013112</td>\n",
              "    </tr>\n",
              "    <tr>\n",
              "      <th>std</th>\n",
              "      <td>9.557730</td>\n",
              "      <td>1.079403</td>\n",
              "      <td>0.142438</td>\n",
              "      <td>3.154584</td>\n",
              "    </tr>\n",
              "    <tr>\n",
              "      <th>min</th>\n",
              "      <td>0.000000</td>\n",
              "      <td>0.000000</td>\n",
              "      <td>0.000000</td>\n",
              "      <td>-12.073486</td>\n",
              "    </tr>\n",
              "    <tr>\n",
              "      <th>25%</th>\n",
              "      <td>0.000000</td>\n",
              "      <td>0.000000</td>\n",
              "      <td>0.000000</td>\n",
              "      <td>5.173787</td>\n",
              "    </tr>\n",
              "    <tr>\n",
              "      <th>50%</th>\n",
              "      <td>0.000000</td>\n",
              "      <td>0.000000</td>\n",
              "      <td>0.000000</td>\n",
              "      <td>7.007936</td>\n",
              "    </tr>\n",
              "    <tr>\n",
              "      <th>75%</th>\n",
              "      <td>0.000000</td>\n",
              "      <td>0.000000</td>\n",
              "      <td>0.000000</td>\n",
              "      <td>8.864119</td>\n",
              "    </tr>\n",
              "    <tr>\n",
              "      <th>max</th>\n",
              "      <td>1303.609284</td>\n",
              "      <td>152.000000</td>\n",
              "      <td>1.000000</td>\n",
              "      <td>22.446822</td>\n",
              "    </tr>\n",
              "  </tbody>\n",
              "</table>\n",
              "</div>\n",
              "    <div class=\"colab-df-buttons\">\n",
              "\n",
              "  <div class=\"colab-df-container\">\n",
              "    <button class=\"colab-df-convert\" onclick=\"convertToInteractive('df-4fbda32f-21c4-41bc-b115-f54c34dbf2e4')\"\n",
              "            title=\"Convert this dataframe to an interactive table.\"\n",
              "            style=\"display:none;\">\n",
              "\n",
              "  <svg xmlns=\"http://www.w3.org/2000/svg\" height=\"24px\" viewBox=\"0 -960 960 960\">\n",
              "    <path d=\"M120-120v-720h720v720H120Zm60-500h600v-160H180v160Zm220 220h160v-160H400v160Zm0 220h160v-160H400v160ZM180-400h160v-160H180v160Zm440 0h160v-160H620v160ZM180-180h160v-160H180v160Zm440 0h160v-160H620v160Z\"/>\n",
              "  </svg>\n",
              "    </button>\n",
              "\n",
              "  <style>\n",
              "    .colab-df-container {\n",
              "      display:flex;\n",
              "      gap: 12px;\n",
              "    }\n",
              "\n",
              "    .colab-df-convert {\n",
              "      background-color: #E8F0FE;\n",
              "      border: none;\n",
              "      border-radius: 50%;\n",
              "      cursor: pointer;\n",
              "      display: none;\n",
              "      fill: #1967D2;\n",
              "      height: 32px;\n",
              "      padding: 0 0 0 0;\n",
              "      width: 32px;\n",
              "    }\n",
              "\n",
              "    .colab-df-convert:hover {\n",
              "      background-color: #E2EBFA;\n",
              "      box-shadow: 0px 1px 2px rgba(60, 64, 67, 0.3), 0px 1px 3px 1px rgba(60, 64, 67, 0.15);\n",
              "      fill: #174EA6;\n",
              "    }\n",
              "\n",
              "    .colab-df-buttons div {\n",
              "      margin-bottom: 4px;\n",
              "    }\n",
              "\n",
              "    [theme=dark] .colab-df-convert {\n",
              "      background-color: #3B4455;\n",
              "      fill: #D2E3FC;\n",
              "    }\n",
              "\n",
              "    [theme=dark] .colab-df-convert:hover {\n",
              "      background-color: #434B5C;\n",
              "      box-shadow: 0px 1px 3px 1px rgba(0, 0, 0, 0.15);\n",
              "      filter: drop-shadow(0px 1px 2px rgba(0, 0, 0, 0.3));\n",
              "      fill: #FFFFFF;\n",
              "    }\n",
              "  </style>\n",
              "\n",
              "    <script>\n",
              "      const buttonEl =\n",
              "        document.querySelector('#df-4fbda32f-21c4-41bc-b115-f54c34dbf2e4 button.colab-df-convert');\n",
              "      buttonEl.style.display =\n",
              "        google.colab.kernel.accessAllowed ? 'block' : 'none';\n",
              "\n",
              "      async function convertToInteractive(key) {\n",
              "        const element = document.querySelector('#df-4fbda32f-21c4-41bc-b115-f54c34dbf2e4');\n",
              "        const dataTable =\n",
              "          await google.colab.kernel.invokeFunction('convertToInteractive',\n",
              "                                                    [key], {});\n",
              "        if (!dataTable) return;\n",
              "\n",
              "        const docLinkHtml = 'Like what you see? Visit the ' +\n",
              "          '<a target=\"_blank\" href=https://colab.research.google.com/notebooks/data_table.ipynb>data table notebook</a>'\n",
              "          + ' to learn more about interactive tables.';\n",
              "        element.innerHTML = '';\n",
              "        dataTable['output_type'] = 'display_data';\n",
              "        await google.colab.output.renderOutput(dataTable, element);\n",
              "        const docLink = document.createElement('div');\n",
              "        docLink.innerHTML = docLinkHtml;\n",
              "        element.appendChild(docLink);\n",
              "      }\n",
              "    </script>\n",
              "  </div>\n",
              "\n",
              "\n",
              "<div id=\"df-d8a15464-40f4-45da-a019-a040bb5c401e\">\n",
              "  <button class=\"colab-df-quickchart\" onclick=\"quickchart('df-d8a15464-40f4-45da-a019-a040bb5c401e')\"\n",
              "            title=\"Suggest charts\"\n",
              "            style=\"display:none;\">\n",
              "\n",
              "<svg xmlns=\"http://www.w3.org/2000/svg\" height=\"24px\"viewBox=\"0 0 24 24\"\n",
              "     width=\"24px\">\n",
              "    <g>\n",
              "        <path d=\"M19 3H5c-1.1 0-2 .9-2 2v14c0 1.1.9 2 2 2h14c1.1 0 2-.9 2-2V5c0-1.1-.9-2-2-2zM9 17H7v-7h2v7zm4 0h-2V7h2v10zm4 0h-2v-4h2v4z\"/>\n",
              "    </g>\n",
              "</svg>\n",
              "  </button>\n",
              "\n",
              "<style>\n",
              "  .colab-df-quickchart {\n",
              "      --bg-color: #E8F0FE;\n",
              "      --fill-color: #1967D2;\n",
              "      --hover-bg-color: #E2EBFA;\n",
              "      --hover-fill-color: #174EA6;\n",
              "      --disabled-fill-color: #AAA;\n",
              "      --disabled-bg-color: #DDD;\n",
              "  }\n",
              "\n",
              "  [theme=dark] .colab-df-quickchart {\n",
              "      --bg-color: #3B4455;\n",
              "      --fill-color: #D2E3FC;\n",
              "      --hover-bg-color: #434B5C;\n",
              "      --hover-fill-color: #FFFFFF;\n",
              "      --disabled-bg-color: #3B4455;\n",
              "      --disabled-fill-color: #666;\n",
              "  }\n",
              "\n",
              "  .colab-df-quickchart {\n",
              "    background-color: var(--bg-color);\n",
              "    border: none;\n",
              "    border-radius: 50%;\n",
              "    cursor: pointer;\n",
              "    display: none;\n",
              "    fill: var(--fill-color);\n",
              "    height: 32px;\n",
              "    padding: 0;\n",
              "    width: 32px;\n",
              "  }\n",
              "\n",
              "  .colab-df-quickchart:hover {\n",
              "    background-color: var(--hover-bg-color);\n",
              "    box-shadow: 0 1px 2px rgba(60, 64, 67, 0.3), 0 1px 3px 1px rgba(60, 64, 67, 0.15);\n",
              "    fill: var(--button-hover-fill-color);\n",
              "  }\n",
              "\n",
              "  .colab-df-quickchart-complete:disabled,\n",
              "  .colab-df-quickchart-complete:disabled:hover {\n",
              "    background-color: var(--disabled-bg-color);\n",
              "    fill: var(--disabled-fill-color);\n",
              "    box-shadow: none;\n",
              "  }\n",
              "\n",
              "  .colab-df-spinner {\n",
              "    border: 2px solid var(--fill-color);\n",
              "    border-color: transparent;\n",
              "    border-bottom-color: var(--fill-color);\n",
              "    animation:\n",
              "      spin 1s steps(1) infinite;\n",
              "  }\n",
              "\n",
              "  @keyframes spin {\n",
              "    0% {\n",
              "      border-color: transparent;\n",
              "      border-bottom-color: var(--fill-color);\n",
              "      border-left-color: var(--fill-color);\n",
              "    }\n",
              "    20% {\n",
              "      border-color: transparent;\n",
              "      border-left-color: var(--fill-color);\n",
              "      border-top-color: var(--fill-color);\n",
              "    }\n",
              "    30% {\n",
              "      border-color: transparent;\n",
              "      border-left-color: var(--fill-color);\n",
              "      border-top-color: var(--fill-color);\n",
              "      border-right-color: var(--fill-color);\n",
              "    }\n",
              "    40% {\n",
              "      border-color: transparent;\n",
              "      border-right-color: var(--fill-color);\n",
              "      border-top-color: var(--fill-color);\n",
              "    }\n",
              "    60% {\n",
              "      border-color: transparent;\n",
              "      border-right-color: var(--fill-color);\n",
              "    }\n",
              "    80% {\n",
              "      border-color: transparent;\n",
              "      border-right-color: var(--fill-color);\n",
              "      border-bottom-color: var(--fill-color);\n",
              "    }\n",
              "    90% {\n",
              "      border-color: transparent;\n",
              "      border-bottom-color: var(--fill-color);\n",
              "    }\n",
              "  }\n",
              "</style>\n",
              "\n",
              "  <script>\n",
              "    async function quickchart(key) {\n",
              "      const quickchartButtonEl =\n",
              "        document.querySelector('#' + key + ' button');\n",
              "      quickchartButtonEl.disabled = true;  // To prevent multiple clicks.\n",
              "      quickchartButtonEl.classList.add('colab-df-spinner');\n",
              "      try {\n",
              "        const charts = await google.colab.kernel.invokeFunction(\n",
              "            'suggestCharts', [key], {});\n",
              "      } catch (error) {\n",
              "        console.error('Error during call to suggestCharts:', error);\n",
              "      }\n",
              "      quickchartButtonEl.classList.remove('colab-df-spinner');\n",
              "      quickchartButtonEl.classList.add('colab-df-quickchart-complete');\n",
              "    }\n",
              "    (() => {\n",
              "      let quickchartButtonEl =\n",
              "        document.querySelector('#df-d8a15464-40f4-45da-a019-a040bb5c401e button');\n",
              "      quickchartButtonEl.style.display =\n",
              "        google.colab.kernel.accessAllowed ? 'block' : 'none';\n",
              "    })();\n",
              "  </script>\n",
              "</div>\n",
              "    </div>\n",
              "  </div>\n"
            ],
            "application/vnd.google.colaboratory.intrinsic+json": {
              "type": "dataframe",
              "summary": "{\n  \"name\": \"df\",\n  \"rows\": 8,\n  \"fields\": [\n    {\n      \"column\": \"revenue\",\n      \"properties\": {\n        \"dtype\": \"number\",\n        \"std\": 8308.404700111922,\n        \"min\": 0.0,\n        \"max\": 23652.0,\n        \"num_unique_values\": 5,\n        \"samples\": [\n          0.32468898025536946,\n          1303.609284,\n          9.557729777665166\n        ],\n        \"semantic_type\": \"\",\n        \"description\": \"\"\n      }\n    },\n    {\n      \"column\": \"num_purchases\",\n      \"properties\": {\n        \"dtype\": \"number\",\n        \"std\": 8354.67981837665,\n        \"min\": 0.0,\n        \"max\": 23652.0,\n        \"num_unique_values\": 5,\n        \"samples\": [\n          0.04359039404701505,\n          152.0,\n          1.0794034291562133\n        ],\n        \"semantic_type\": \"\",\n        \"description\": \"\"\n      }\n    },\n    {\n      \"column\": \"purchase\",\n      \"properties\": {\n        \"dtype\": \"number\",\n        \"std\": 8362.186053152562,\n        \"min\": 0.0,\n        \"max\": 23652.0,\n        \"num_unique_values\": 5,\n        \"samples\": [\n          0.02071706409605953,\n          1.0,\n          0.14243849603590872\n        ],\n        \"semantic_type\": \"\",\n        \"description\": \"\"\n      }\n    },\n    {\n      \"column\": \"av_site visit\",\n      \"properties\": {\n        \"dtype\": \"number\",\n        \"std\": 8360.149604267866,\n        \"min\": -12.073486328125,\n        \"max\": 23652.0,\n        \"num_unique_values\": 8,\n        \"samples\": [\n          7.013112392894711,\n          7.007936187305025,\n          23652.0\n        ],\n        \"semantic_type\": \"\",\n        \"description\": \"\"\n      }\n    }\n  ]\n}"
            }
          },
          "metadata": {},
          "execution_count": 3
        }
      ],
      "source": [
        "df.describe()"
      ]
    },
    {
      "cell_type": "markdown",
      "metadata": {
        "id": "k8ZtimKnHy4u"
      },
      "source": [
        "Проанализируем метрику ARPPU\n",
        "ARPPU (англ. Average revenue per paying user) — это метрика, которая показывает\n",
        "среднюю прибыль от одного платящего пользователя за определенный период\n",
        "времени. Она позволяет измерять ценность продукта компании и прогнозировать\n",
        "доход.\n",
        "Следовательно, проанализируем показатель revenue"
      ]
    },
    {
      "cell_type": "code",
      "execution_count": 4,
      "metadata": {
        "colab": {
          "base_uri": "https://localhost:8080/"
        },
        "id": "1iSFsAeZH5md",
        "outputId": "1999cad2-0c84-4a84-d2c4-9b6aae673bd4"
      },
      "outputs": [
        {
          "output_type": "execute_result",
          "data": {
            "text/plain": [
              "1303.609284"
            ]
          },
          "metadata": {},
          "execution_count": 4
        }
      ],
      "source": [
        "df[(df['ab_group'] == 'A')]['revenue'].max()"
      ]
    },
    {
      "cell_type": "code",
      "execution_count": 5,
      "metadata": {
        "colab": {
          "base_uri": "https://localhost:8080/"
        },
        "id": "H6TMEgjLH8wS",
        "outputId": "70a698b2-dd0c-4277-bd7a-bc2a4e2cf1f7"
      },
      "outputs": [
        {
          "output_type": "execute_result",
          "data": {
            "text/plain": [
              "113.829999999999"
            ]
          },
          "metadata": {},
          "execution_count": 5
        }
      ],
      "source": [
        "df[(df['ab_group'] == 'B')]['revenue'].max()"
      ]
    },
    {
      "cell_type": "markdown",
      "metadata": {
        "id": "NuBHhcbbH_wG"
      },
      "source": [
        "Видно, что revenue у группы А почти в 9 раз превышает чем у группы В"
      ]
    },
    {
      "cell_type": "code",
      "execution_count": 6,
      "metadata": {
        "colab": {
          "base_uri": "https://localhost:8080/"
        },
        "id": "zvl5p2ZvIBo2",
        "outputId": "c215d8dc-8226-4087-dcab-98ddccf17f6a"
      },
      "outputs": [
        {
          "output_type": "execute_result",
          "data": {
            "text/plain": [
              "11835"
            ]
          },
          "metadata": {},
          "execution_count": 6
        }
      ],
      "source": [
        "df[(df['ab_group'] == 'A')]['ab_group'].count()"
      ]
    },
    {
      "cell_type": "code",
      "execution_count": 7,
      "metadata": {
        "colab": {
          "base_uri": "https://localhost:8080/"
        },
        "id": "6y_AFGF2IEGN",
        "outputId": "64def5ca-dc3f-4d7d-e543-ebba41717e21"
      },
      "outputs": [
        {
          "output_type": "execute_result",
          "data": {
            "text/plain": [
              "11817"
            ]
          },
          "metadata": {},
          "execution_count": 7
        }
      ],
      "source": [
        "df[(df['ab_group'] == 'B')]['ab_group'].count()"
      ]
    },
    {
      "cell_type": "code",
      "execution_count": 8,
      "metadata": {
        "colab": {
          "base_uri": "https://localhost:8080/",
          "height": 406
        },
        "id": "OFHXJVThIGvJ",
        "outputId": "62faac5f-92c7-4756-8faf-6dd86b9c9a2e"
      },
      "outputs": [
        {
          "output_type": "display_data",
          "data": {
            "text/plain": [
              "<Figure size 640x480 with 1 Axes>"
            ],
            "image/png": "[encoded data removed]"
          },
          "metadata": {}
        }
      ],
      "source": [
        "data = df['ab_group'].value_counts()\n",
        "plt.pie(data.values, labels=data.index, autopct='%1.2f%%')\n",
        "plt.legend(data.index);"
      ]
    },
    {
      "cell_type": "markdown",
      "metadata": {
        "id": "TZ3xxbDxIQ6v"
      },
      "source": [
        "По количеству, пользователи в двух группах почти одниково распределены\n",
        "Расчитаем ARPPU для каждой группы. Для начало найдём количество пользователей\n",
        "для каждой группы, у кого была одна и более покупка"
      ]
    },
    {
      "cell_type": "code",
      "execution_count": 9,
      "metadata": {
        "colab": {
          "base_uri": "https://localhost:8080/"
        },
        "id": "Q5Px1V88IU21",
        "outputId": "63a5d86d-66a5-4e59-f923-b4666a8b15dd"
      },
      "outputs": [
        {
          "output_type": "execute_result",
          "data": {
            "text/plain": [
              "256"
            ]
          },
          "metadata": {},
          "execution_count": 9
        }
      ],
      "source": [
        "df[(df['ab_group'] == 'A') & (df['num_purchases'] >=1)]['ab_group'].count()"
      ]
    },
    {
      "cell_type": "code",
      "execution_count": 10,
      "metadata": {
        "colab": {
          "base_uri": "https://localhost:8080/"
        },
        "id": "lh9EVWNlIbON",
        "outputId": "e1fe6a06-c1a9-40be-c97d-596dd62fb9f5"
      },
      "outputs": [
        {
          "output_type": "execute_result",
          "data": {
            "text/plain": [
              "234"
            ]
          },
          "metadata": {},
          "execution_count": 10
        }
      ],
      "source": [
        "df[(df['ab_group'] == 'B') & (df['num_purchases'] >=1)]['ab_group'].count()"
      ]
    },
    {
      "cell_type": "code",
      "execution_count": 11,
      "metadata": {
        "colab": {
          "base_uri": "https://localhost:8080/"
        },
        "id": "KaBWCOFNIdvC",
        "outputId": "8dde4991-559b-4dd5-ad9a-d660f022695d"
      },
      "outputs": [
        {
          "output_type": "execute_result",
          "data": {
            "text/plain": [
              "0.11014865095057033"
            ]
          },
          "metadata": {},
          "execution_count": 11
        }
      ],
      "source": [
        "df[(df['ab_group'] == 'A')]['revenue'].max()/df[(df['ab_group'] == 'A')]['ab_group'].count()"
      ]
    },
    {
      "cell_type": "code",
      "execution_count": 12,
      "metadata": {
        "colab": {
          "base_uri": "https://localhost:8080/"
        },
        "id": "EM80lFb1I21e",
        "outputId": "b4f464c5-bb91-464c-c6a4-97b10a18107f"
      },
      "outputs": [
        {
          "output_type": "execute_result",
          "data": {
            "text/plain": [
              "0.0096180819602872"
            ]
          },
          "metadata": {},
          "execution_count": 12
        }
      ],
      "source": [
        "df[(df['ab_group'] == 'B')]['revenue'].max()/df[(df['ab_group'] == 'A')]['ab_group'].count()"
      ]
    },
    {
      "cell_type": "markdown",
      "metadata": {
        "id": "TZzIItBAJC8f"
      },
      "source": [
        "Видно, что ARPPU группы А в 12 раз превышает чем у группы B. Если предположить,\n",
        "что группа А-контрольная, а В-тестовая, то значимых изменений у нас нет. А/В тест не\n",
        "дал начимых изменений в пользу группы В. Но возникают ряд вопросов, на которые\n",
        "следует ответить. На каком временном периоде проводился тест, какие статистические\n",
        "инструменты использовались, как исключить случайность и факторы сезонности, чтобы\n",
        "повысить точность и мощность теста"
      ]
    },
    {
      "cell_type": "markdown",
      "metadata": {
        "id": "ZjHLYxREJLnn"
      },
      "source": [
        "Прибегнём к некоторым статистическим инструментариям"
      ]
    },
    {
      "cell_type": "markdown",
      "metadata": {
        "id": "JzSER9k0JMVf"
      },
      "source": [
        "Тест Шапиро:"
      ]
    },
    {
      "cell_type": "code",
      "execution_count": 16,
      "metadata": {
        "colab": {
          "base_uri": "https://localhost:8080/"
        },
        "id": "-UopFO0uJN00",
        "outputId": "39cad9ad-627f-4539-fd8a-2ec7a2b5f738"
      },
      "outputs": [
        {
          "output_type": "stream",
          "name": "stdout",
          "text": [
            "Distribution is not normal\n",
            "\n"
          ]
        }
      ],
      "source": [
        "alpha = 0.05\n",
        "st = shapiro(df.revenue)\n",
        "print('Distribution is {}normal\\n'.format( {True:'not ',\n",
        "False:''}[st[1] < alpha]))"
      ]
    },
    {
      "cell_type": "markdown",
      "metadata": {
        "id": "4qfB2YBkJUIY"
      },
      "source": [
        "Тесть Шапиро показал, что распределение ненормальное"
      ]
    },
    {
      "cell_type": "markdown",
      "metadata": {
        "id": "Lejg7c-5JVHn"
      },
      "source": [
        "Так как у нас огромная выборка, то целесообразно использовать тест Колмогорова-Смирнова"
      ]
    },
    {
      "cell_type": "code",
      "execution_count": 18,
      "metadata": {
        "colab": {
          "base_uri": "https://localhost:8080/"
        },
        "id": "f2MsXBxcJd0C",
        "outputId": "adfeed50-327d-49e0-b2f9-7792b17e1f4d"
      },
      "outputs": [
        {
          "output_type": "stream",
          "name": "stdout",
          "text": [
            "KstestResult(statistic=0.5, pvalue=0.0, statistic_location=0.0, statistic_sign=-1)\n"
          ]
        }
      ],
      "source": [
        "print (kstest(df.revenue, 'norm'))"
      ]
    },
    {
      "cell_type": "markdown",
      "metadata": {
        "id": "hXZQ0EAYJhWI"
      },
      "source": [
        "В данном случае, p-значение равно 0.0, что указывает на то, что нулевая гипотеза\n",
        "может быть отвергнута"
      ]
    },
    {
      "cell_type": "markdown",
      "metadata": {
        "id": "_MaPmRRGJkjH"
      },
      "source": [
        "statistic_sign=-1, что означает, что вторая эмпирическая выборка имеет большее\n",
        "удаление от гипотетического распределения, чем первая выборка."
      ]
    },
    {
      "cell_type": "markdown",
      "metadata": {
        "id": "_NsarpeqJl8c"
      },
      "source": [
        "На основе проведённого анализа сделаем общий вывод:"
      ]
    },
    {
      "cell_type": "markdown",
      "source": [
        "Отвергнуть нулевую гипотезу: Данному А/В тесту имеет место быть. Поэтому мы\n",
        "можем отвергнуть нулевую гипотезу о том, что статистических различий между\n",
        "двумя группами по показателю ARPPU нет.\n",
        "\n",
        "Дальнейший анализ и исследование этого расхождения могут помочь понять,\n",
        "какие конкретные изменения и условия нужно внедрить, чтобы привлечь новых\n",
        "пользователей, готовых совершать покупки.\n",
        "Продолжить мониторинг результатов: В результате AB-тестирования мы получили\n",
        "статистически значимые результаты(даже несмотря на то, что в текущий момент\n",
        "группа А лидирует по показателю revenue), но это не означает, что результаты\n",
        "являются окончательными или долгосрочными. Рекомендуется продолжить\n",
        "мониторинг результатов и дальнейшие тестирования, чтобы убедиться в\n",
        "стабильности и долгосрочной эффективности полученных результатов."
      ],
      "metadata": {
        "id": "mmQKsBYqPXZ1"
      }
    },
    {
      "cell_type": "markdown",
      "source": [
        "**2) Мы хотим провести А/Б-тест для трех источников трафика.\n",
        "Нынешняя конверсия равна 5%, мы ожидаем прирост в\n",
        "0,2%. Уровень доверия 97% и уровень мощности 87%. Всего\n",
        "на наш продукт заходит 40 000 пользователей в месяц.**\n",
        "\n",
        "**3.1) За сколько дней мы сможем протестировать гипотезу? И\n",
        "что вы можете посоветовать по результатам подсчета?**\n",
        "\n",
        "**3.2) Допустим в задаче нет проблемы с количеством\n",
        "посетителей на сайт, тогда подведите результаты\n",
        "тестирования, если у нас следующие результаты по\n",
        "количеству конверсии**:\n",
        "1. 25 000\n",
        "2. 30 000\n",
        "3. 32 000\n"
      ],
      "metadata": {
        "id": "wntNEqavQl8H"
      }
    },
    {
      "cell_type": "markdown",
      "source": [
        "3.1) Чтобы определить, за сколько дней мы сможем протестировать гипотезу,\n",
        "необходимо расчитать размер выборки для каждого источника трафика.\n",
        "Размер выборки можно расчитать следующим образом: n = (Z_alpha x P x (1-P)) / E^2,\n",
        "где:\n",
        "\n",
        "n - размер выборки\n",
        "\n",
        "Z_alpha - Z-значение для заданного уровня доверия (97%), в данном случае\n",
        "примерно 1.880 (значение для двустороннего теста, взятое из таблицы Z-\n",
        "статистики)\n",
        "\n",
        "P - ожидаемая конверсия (5%)\n",
        "\n",
        "E - ожидаемое значение прироста (0.2%)\n",
        "\n",
        "Расчитаем размер выборки для каждого источника трафика:\n",
        "\n",
        "n = (1.880 x 0.05 x (1-0.05)) / (0.002^2)\n",
        "\n",
        "Источник 1: n1 = (1.880 x 0.05 x (1-0.05)) / (0.002^2) = 722,5\n",
        "\n",
        "Источник 2: n2 = (1.880 x 0.05 x (1-0.05)) / (0.002^2) = 722,5\n",
        "\n",
        "Источник 3: n3 = (1.880 x 0.05 x (1-0.05)) / (0.002^2) = 722,5\n",
        "\n",
        "Таким образом, нам необходимо протестировать каждый источник трафика на\n",
        "протяжении минимум 722,5 дней.\n",
        "Однако, уровень мощности (power) в данном случае составляет 87%, что означает, что\n",
        "мы ожидаем смещение соотношения конверсий в выбранную сторону в 13% случаев.\n",
        "Учитывая это, мы можем сократить размер выборки:\n",
        "\n",
        "n = (Z_alpha x P x (1-P)) / (E^2 x (1-power))\n",
        "\n",
        "Используя значение уровня мощности 87% в формуле, получим:\n",
        "\n",
        "n = (1.880 x 0.05 x (1-0.05)) / (0.002^2 x (1-0.87))\n",
        "\n",
        "n = (1.880 x 0.05 x (1-0.05)) / (0.002^2 x 0.13)\n",
        "\n",
        "n ≈ 34,046\n",
        "\n",
        "Таким образом, чтобы достичь уровня мощности 87%, нам нужно протестировать\n",
        "каждый источник трафика примерно в течение 34,046 дней.\n",
        "\n",
        "Что касается рекомендаций на основе результатов подсчета, если после проведения А/\n",
        "Б-теста мы обнаружим прирост конверсии на каждом из источников трафика, то\n",
        "можно сделать вывод о том, что изменения, внесенные в тестовую группу,\n",
        "положительно влияют на конверсию. В этом случае можно продолжать использовать\n",
        "новую версию или изменения для увеличения конверсии более широко."
      ],
      "metadata": {
        "id": "xsxwp8WTRjzo"
      }
    },
    {
      "cell_type": "markdown",
      "source": [
        "3.2) Если у нас следующие результаты по количеству конверсии:\n",
        "\n",
        "25,000 пользователей - можно рассчитать конверсию следующим образом:\n",
        "\n",
        "конверсия = (количество конверсий / общее количество пользователей) * 100%\n",
        "\n",
        "конверсия = (25,000 / 40,000) x 100% = 62.5%\n",
        "30,000 пользователей - конверсия:\n",
        "\n",
        "конверсия = (30,000 / 40,000) x 100% = 75%\n",
        "32,000 пользователей - конверсия:\n",
        "\n",
        "конверсия = (32,000 / 40,000) x 100% = 80%\n",
        "\n",
        "Сравнивая эти результаты с текущей конверсией (5%), видно, что все три результаты\n",
        "значительно превышают ожидаемый прирост в 0.2%. Это может указывать на то, что\n",
        "изменения, внесенные в тестовую группу, положительно влияют на конверсию и могут\n",
        "быть внедрены широко для увеличения конверсии. Нужно учесть также, что для\n",
        "статистической значимости эти результаты также должны быть подтверждены\n",
        "статистическим анализом и учитывать уровень доверия и мощности теста.\n",
        "_________________"
      ],
      "metadata": {
        "id": "5vwktmg5SCXW"
      }
    },
    {
      "cell_type": "markdown",
      "source": [
        "**4) Вы решили сравнивать метрику CPA в двух группах.**\n",
        "\n",
        "**Размер выборки - 2350 элементов в каждой группе.**\n",
        "\n",
        "**Для проверки нормальности распределения на выборке в\n",
        "2350 наблюдений применили, критерий Шапиро-Уилка и\n",
        "получили p-value, равный 0.00002, alpha = 5%.**\n",
        "\n",
        "**Какой бы вывод мы могли сделать в данном случае?\n",
        "В этом случае какой статистический критерий для проверки\n",
        "первоначальной гипотезы тут лучше всего подойдёт и\n",
        "почему ?**"
      ],
      "metadata": {
        "id": "udth_bhySY8l"
      }
    },
    {
      "cell_type": "markdown",
      "source": [
        "Исходя из полученного p-value (равного 0.00002), который значительно меньше уровня\n",
        "значимости (alpha = 5%), мы можем отклонить нулевую гипотезу о нормальном\n",
        "распределении данных. Это указывает на то, что распределение данных по метрике\n",
        "CPA в выборке не является нормальным.\n",
        "\n",
        "В данном случае, учитывая большой размер выборки (2350 наблюдений в каждой\n",
        "группе), можно использовать критерий Колмогорова-Смирнова для проверки\n",
        "первоначальной гипотезы о нормальности. Этот критерий хорошо подходит для\n",
        "больших выборок и менее чувствителен к асимметрии и тяжелым хвостам\n",
        "распределения. Также можно воспользоваться бутстрап-подходом, особенно если\n",
        "данные имеют существенные отклонения от нормальности."
      ],
      "metadata": {
        "id": "tj9Hol1GS0Cq"
      }
    }
  ],
  "metadata": {
    "colab": {
      "provenance": [],
      "authorship_tag": "ABX9TyPiCcmlSDAI4KPfmPXfUKxD",
      "include_colab_link": true
    },
    "kernelspec": {
      "display_name": "Python 3",
      "name": "python3"
    },
    "language_info": {
      "name": "python"
    }
  },
  "nbformat": 4,
  "nbformat_minor": 0
}